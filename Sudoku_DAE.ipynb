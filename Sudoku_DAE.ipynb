{
 "cells": [
  {
   "cell_type": "code",
   "execution_count": 1,
   "metadata": {},
   "outputs": [],
   "source": [
    "import os\n",
    "os.environ[\"CUDA_DEVICE_ORDER\"]=\"PCI_BUS_ID\"\n",
    "os.environ[\"CUDA_VISIBLE_DEVICES\"]=\"0\""
   ]
  },
  {
   "cell_type": "code",
   "execution_count": 54,
   "metadata": {},
   "outputs": [],
   "source": [
    "import numpy as np\n",
    "from keras.datasets import mnist\n",
    "from keras.models import Model,Sequential\n",
    "from keras.layers import Dense, Dropout, Flatten, Reshape\n",
    "from keras import backend as K\n",
    "import matplotlib.pyplot as plt\n",
    "import tensorflow as tf\n",
    "# the data, split between train and test sets\n",
    "from keras.utils import np_utils\n",
    "from matplotlib import pyplot\n",
    "from sklearn.model_selection import KFold\n",
    "from tensorflow.python.keras import Sequential\n",
    "from keras.optimizers import Adadelta, RMSprop,SGD,Adam\n",
    "from tensorflow.keras.layers import GaussianNoise\n",
    "from keras.callbacks import ModelCheckpoint"
   ]
  },
  {
   "cell_type": "code",
   "execution_count": 3,
   "metadata": {},
   "outputs": [],
   "source": [
    "physical_devices = tf.config.experimental.list_physical_devices('GPU')\n",
    "if len(physical_devices) > 0:\n",
    "    tf.config.experimental.set_memory_growth(physical_devices[0], True)"
   ]
  },
  {
   "cell_type": "code",
   "execution_count": 4,
   "metadata": {},
   "outputs": [],
   "source": [
    "#Defining Dataset\n",
    "def input_data():\n",
    "    (X_train, y_train), (X_test, y_test) = mnist.load_data()\n",
    "\n",
    "    # Reshape to be samples*pixels*width*height\n",
    "    X_train = X_train.reshape(X_train.shape[0], 28, 28, 1).astype('float32')\n",
    "    X_test = X_test.reshape(X_test.shape[0], 28, 28, 1).astype('float32')\n",
    "\n",
    "    # One hot Cpde\n",
    "    y_train = np_utils.to_categorical(y_train)\n",
    "    y_test = np_utils.to_categorical(y_test)\n",
    "    num_classes = y_test.shape[1]\n",
    "\n",
    "    # convert from integers to floats\n",
    "    X_train = X_train.astype('float32')\n",
    "    X_test = X_test.astype('float32')\n",
    "    # normalize to range [0, 1]\n",
    "    X_train = (X_train / 255.0)\n",
    "    X_test = (X_test / 255.0)\n",
    "\n",
    "    return X_train, y_train,X_test, y_test"
   ]
  },
  {
   "cell_type": "code",
   "execution_count": 5,
   "metadata": {},
   "outputs": [],
   "source": [
    "#Adding Noise to training data\n",
    "def training_noise(X_train):\n",
    "    sample=GaussianNoise(0.2)\n",
    "\n",
    "    noisey_X_train=sample(X_train,training=True)\n",
    "\n",
    "    return noisey_X_train"
   ]
  },
  {
   "cell_type": "code",
   "execution_count": 56,
   "metadata": {},
   "outputs": [],
   "source": [
    "batch_size=64\n",
    "epochs=15\n",
    "inChannel = 1\n",
    "x, y = 28, 28\n",
    "input_img = Input(shape = (x,y,inChannel ))\n",
    "num_classes = 10"
   ]
  },
  {
   "cell_type": "code",
   "execution_count": 64,
   "metadata": {},
   "outputs": [],
   "source": [
    "def encoder(input_img):\n",
    "    flatten=Flatten(input_shape=(28,28))(input_img)\n",
    "    layer_1=Dense(512, activation='relu',kernel_initializer=\"glorot_uniform\")(flatten)\n",
    "    layer_2=Dense(128, activation='relu',kernel_initializer=\"glorot_uniform\")(layer_1)\n",
    "    layer_3=Dense(16, activation='relu',kernel_initializer=\"glorot_uniform\")(layer_2)\n",
    "    return layer_3\n",
    "\n",
    "def decoder(layer_3):\n",
    "    layer_4=Dense(128, activation='relu',kernel_initializer=\"glorot_uniform\")(layer_3)\n",
    "    layer_5=Dense(512, activation='relu',kernel_initializer=\"glorot_uniform\")(layer_4)\n",
    "    layer_6=Dense(784, activation='relu',kernel_initializer=\"glorot_uniform\")(layer_5)\n",
    "    reshape=Reshape((28,28,1), input_shape=(784,))(layer_6)\n",
    "    return reshape\n",
    "    "
   ]
  },
  {
   "cell_type": "code",
   "execution_count": 65,
   "metadata": {},
   "outputs": [],
   "source": [
    "autoencoder = Model(input_img, decoder(encoder(input_img)))\n",
    "autoencoder.compile(loss='mean_squared_error', optimizer = Adam())"
   ]
  },
  {
   "cell_type": "code",
   "execution_count": 66,
   "metadata": {},
   "outputs": [
    {
     "name": "stdout",
     "output_type": "stream",
     "text": [
      "Model: \"model_9\"\n",
      "_________________________________________________________________\n",
      "Layer (type)                 Output Shape              Param #   \n",
      "=================================================================\n",
      "input_8 (InputLayer)         [(None, 28, 28, 1)]       0         \n",
      "_________________________________________________________________\n",
      "flatten_2 (Flatten)          (None, 784)               0         \n",
      "_________________________________________________________________\n",
      "dense_25 (Dense)             (None, 512)               401920    \n",
      "_________________________________________________________________\n",
      "dense_26 (Dense)             (None, 128)               65664     \n",
      "_________________________________________________________________\n",
      "dense_27 (Dense)             (None, 16)                2064      \n",
      "_________________________________________________________________\n",
      "dense_28 (Dense)             (None, 128)               2176      \n",
      "_________________________________________________________________\n",
      "dense_29 (Dense)             (None, 512)               66048     \n",
      "_________________________________________________________________\n",
      "dense_30 (Dense)             (None, 784)               402192    \n",
      "_________________________________________________________________\n",
      "reshape_1 (Reshape)          (None, 28, 28, 1)         0         \n",
      "=================================================================\n",
      "Total params: 940,064\n",
      "Trainable params: 940,064\n",
      "Non-trainable params: 0\n",
      "_________________________________________________________________\n"
     ]
    }
   ],
   "source": [
    "autoencoder.summary()"
   ]
  },
  {
   "cell_type": "code",
   "execution_count": 67,
   "metadata": {
    "scrolled": false
   },
   "outputs": [
    {
     "name": "stdout",
     "output_type": "stream",
     "text": [
      "Epoch 1/15\n",
      "938/938 [==============================] - 5s 5ms/step - loss: 0.0390 - val_loss: 0.0202\n",
      "Epoch 2/15\n",
      "938/938 [==============================] - 5s 5ms/step - loss: 0.0207 - val_loss: 0.0176\n",
      "Epoch 3/15\n",
      "938/938 [==============================] - 5s 5ms/step - loss: 0.0181 - val_loss: 0.0163\n",
      "Epoch 4/15\n",
      "938/938 [==============================] - 5s 5ms/step - loss: 0.0169 - val_loss: 0.0156\n",
      "Epoch 5/15\n",
      "938/938 [==============================] - 5s 5ms/step - loss: 0.0159 - val_loss: 0.0149\n",
      "Epoch 6/15\n",
      "938/938 [==============================] - 5s 5ms/step - loss: 0.0151 - val_loss: 0.0145\n",
      "Epoch 7/15\n",
      "938/938 [==============================] - 5s 5ms/step - loss: 0.0147 - val_loss: 0.0143\n",
      "Epoch 8/15\n",
      "938/938 [==============================] - 5s 5ms/step - loss: 0.0142 - val_loss: 0.0137\n",
      "Epoch 9/15\n",
      "938/938 [==============================] - 5s 5ms/step - loss: 0.0137 - val_loss: 0.0135\n",
      "Epoch 10/15\n",
      "938/938 [==============================] - 5s 5ms/step - loss: 0.0135 - val_loss: 0.0132\n",
      "Epoch 11/15\n",
      "938/938 [==============================] - 5s 5ms/step - loss: 0.0132 - val_loss: 0.0133\n",
      "Epoch 12/15\n",
      "938/938 [==============================] - 5s 6ms/step - loss: 0.0130 - val_loss: 0.0133\n",
      "Epoch 13/15\n",
      "938/938 [==============================] - 5s 5ms/step - loss: 0.0128 - val_loss: 0.0132\n",
      "Epoch 14/15\n",
      "938/938 [==============================] - 5s 5ms/step - loss: 0.0127 - val_loss: 0.0129\n",
      "Epoch 15/15\n",
      "938/938 [==============================] - 5s 5ms/step - loss: 0.0125 - val_loss: 0.0129\n"
     ]
    }
   ],
   "source": [
    "X_train, y_train, X_test, y_test=input_data()\n",
    "\n",
    "noisy_X_train=training_noise(X_train)\n",
    "\n",
    "autoencoder_train = autoencoder.fit(noisy_X_train, X_train, batch_size=batch_size,epochs=epochs,verbose=1,validation_data=(X_test,X_test))"
   ]
  },
  {
   "cell_type": "code",
   "execution_count": null,
   "metadata": {},
   "outputs": [],
   "source": []
  },
  {
   "cell_type": "code",
   "execution_count": 68,
   "metadata": {},
   "outputs": [
    {
     "data": {
      "image/png": "[encoded data removed]",
      "text/plain": [
       "<Figure size 432x288 with 1 Axes>"
      ]
     },
     "metadata": {
      "needs_background": "light"
     },
     "output_type": "display_data"
    }
   ],
   "source": [
    "loss = autoencoder_train.history['loss']\n",
    "val_loss = autoencoder_train.history['val_loss']\n",
    "epochs = range(15)\n",
    "plt.figure()\n",
    "plt.plot(epochs, loss, 'bo', label='Training loss')\n",
    "plt.plot(epochs, val_loss, 'b', label='Validation loss')\n",
    "plt.title('Training and validation loss')\n",
    "plt.legend()\n",
    "plt.show()"
   ]
  },
  {
   "cell_type": "code",
   "execution_count": 69,
   "metadata": {},
   "outputs": [],
   "source": [
    "autoencoder.save_weights('autoencoder.h5')"
   ]
  },
  {
   "cell_type": "code",
   "execution_count": 70,
   "metadata": {},
   "outputs": [],
   "source": [
    "#normal neural network\n",
    "\n",
    "def fc(enco):\n",
    "    flat = Flatten()(enco)\n",
    "    den = Dense(128, activation='relu')(flat)\n",
    "    den=Dropout(0.2)(den)\n",
    "    out = Dense(num_classes, activation='softmax')(den)\n",
    "    return out"
   ]
  },
  {
   "cell_type": "code",
   "execution_count": 71,
   "metadata": {},
   "outputs": [],
   "source": [
    "encode = encoder(input_img)\n",
    "full_model = Model(input_img,fc(encode))"
   ]
  },
  {
   "cell_type": "code",
   "execution_count": 72,
   "metadata": {},
   "outputs": [],
   "source": [
    "for l1,l2 in zip(full_model.layers[:4],autoencoder.layers[0:4]):\n",
    "    l1.set_weights(l2.get_weights())"
   ]
  },
  {
   "cell_type": "code",
   "execution_count": 75,
   "metadata": {},
   "outputs": [
    {
     "name": "stdout",
     "output_type": "stream",
     "text": [
      "True\n"
     ]
    }
   ],
   "source": [
    "#Same weights are copied in the second network\n",
    "\n",
    "if (autoencoder.get_weights()[0][1].all()==full_model.get_weights()[0][1].all()):\n",
    "    print(\"True\")"
   ]
  },
  {
   "cell_type": "code",
   "execution_count": 76,
   "metadata": {},
   "outputs": [],
   "source": [
    "#stop training of copies layers\n",
    "\n",
    "for layer in full_model.layers[0:4]:\n",
    "    layer.trainable = False"
   ]
  },
  {
   "cell_type": "code",
   "execution_count": 77,
   "metadata": {},
   "outputs": [],
   "source": [
    "full_model.compile(loss=\"categorical_crossentropy\", optimizer=Adam(),metrics=['accuracy'])"
   ]
  },
  {
   "cell_type": "code",
   "execution_count": 78,
   "metadata": {},
   "outputs": [
    {
     "name": "stdout",
     "output_type": "stream",
     "text": [
      "Model: \"model_10\"\n",
      "_________________________________________________________________\n",
      "Layer (type)                 Output Shape              Param #   \n",
      "=================================================================\n",
      "input_8 (InputLayer)         [(None, 28, 28, 1)]       0         \n",
      "_________________________________________________________________\n",
      "flatten_3 (Flatten)          (None, 784)               0         \n",
      "_________________________________________________________________\n",
      "dense_31 (Dense)             (None, 512)               401920    \n",
      "_________________________________________________________________\n",
      "dense_32 (Dense)             (None, 128)               65664     \n",
      "_________________________________________________________________\n",
      "dense_33 (Dense)             (None, 16)                2064      \n",
      "_________________________________________________________________\n",
      "flatten_4 (Flatten)          (None, 16)                0         \n",
      "_________________________________________________________________\n",
      "dense_34 (Dense)             (None, 128)               2176      \n",
      "_________________________________________________________________\n",
      "dropout (Dropout)            (None, 128)               0         \n",
      "_________________________________________________________________\n",
      "dense_35 (Dense)             (None, 10)                1290      \n",
      "=================================================================\n",
      "Total params: 473,114\n",
      "Trainable params: 5,530\n",
      "Non-trainable params: 467,584\n",
      "_________________________________________________________________\n"
     ]
    }
   ],
   "source": [
    "full_model.summary()"
   ]
  },
  {
   "cell_type": "code",
   "execution_count": 79,
   "metadata": {
    "scrolled": false
   },
   "outputs": [
    {
     "name": "stdout",
     "output_type": "stream",
     "text": [
      "Epoch 1/10\n",
      "938/938 [==============================] - 5s 5ms/step - loss: 0.8888 - accuracy: 0.7069 - val_loss: 0.2004 - val_accuracy: 0.9412\n",
      "Epoch 2/10\n",
      "938/938 [==============================] - 4s 5ms/step - loss: 0.2130 - accuracy: 0.9335 - val_loss: 0.1581 - val_accuracy: 0.9528\n",
      "Epoch 3/10\n",
      "938/938 [==============================] - 4s 5ms/step - loss: 0.1696 - accuracy: 0.9470 - val_loss: 0.1272 - val_accuracy: 0.9592\n",
      "Epoch 4/10\n",
      "938/938 [==============================] - 4s 5ms/step - loss: 0.1443 - accuracy: 0.9549 - val_loss: 0.1224 - val_accuracy: 0.9622\n",
      "Epoch 5/10\n",
      "938/938 [==============================] - 4s 4ms/step - loss: 0.1309 - accuracy: 0.9602 - val_loss: 0.1126 - val_accuracy: 0.9660\n",
      "Epoch 6/10\n",
      "938/938 [==============================] - 4s 5ms/step - loss: 0.1236 - accuracy: 0.9617 - val_loss: 0.1071 - val_accuracy: 0.9662\n",
      "Epoch 7/10\n",
      "938/938 [==============================] - 4s 4ms/step - loss: 0.1180 - accuracy: 0.9638 - val_loss: 0.1027 - val_accuracy: 0.9681\n",
      "Epoch 8/10\n",
      "938/938 [==============================] - 4s 4ms/step - loss: 0.1105 - accuracy: 0.9647 - val_loss: 0.1034 - val_accuracy: 0.9688\n",
      "Epoch 9/10\n",
      "938/938 [==============================] - 4s 4ms/step - loss: 0.1073 - accuracy: 0.9670 - val_loss: 0.1025 - val_accuracy: 0.9681\n",
      "Epoch 10/10\n",
      "938/938 [==============================] - 4s 4ms/step - loss: 0.1037 - accuracy: 0.9674 - val_loss: 0.1018 - val_accuracy: 0.9686\n"
     ]
    }
   ],
   "source": [
    "classify_train = full_model.fit(X_train, y_train, batch_size=64,epochs=10,verbose=1,validation_data=(X_test, y_test))"
   ]
  },
  {
   "cell_type": "code",
   "execution_count": 80,
   "metadata": {},
   "outputs": [
    {
     "data": {
      "image/png": "[encoded data removed]",
      "text/plain": [
       "<Figure size 432x288 with 1 Axes>"
      ]
     },
     "metadata": {
      "needs_background": "light"
     },
     "output_type": "display_data"
    },
    {
     "data": {
      "image/png": "[encoded data removed]",
      "text/plain": [
       "<Figure size 432x288 with 1 Axes>"
      ]
     },
     "metadata": {
      "needs_background": "light"
     },
     "output_type": "display_data"
    }
   ],
   "source": [
    "accuracy = classify_train.history['accuracy']\n",
    "val_accuracy = classify_train.history['val_accuracy']\n",
    "loss = classify_train.history['loss']\n",
    "val_loss = classify_train.history['val_loss']\n",
    "epochs = range(len(accuracy))\n",
    "plt.plot(epochs, accuracy, 'bo', label='Training accuracy')\n",
    "plt.plot(epochs, val_accuracy, 'b', label='Validation accuracy')\n",
    "plt.title('Training and validation accuracy')\n",
    "plt.legend()\n",
    "plt.figure()\n",
    "plt.plot(epochs, loss, 'bo', label='Training loss')\n",
    "plt.plot(epochs, val_loss, 'b', label='Validation loss')\n",
    "plt.title('Training and validation loss')\n",
    "plt.legend()\n",
    "plt.show()"
   ]
  },
  {
   "cell_type": "code",
   "execution_count": 82,
   "metadata": {},
   "outputs": [
    {
     "name": "stdout",
     "output_type": "stream",
     "text": [
      "Predicted digit: 7\n",
      "Predicted digit: 2\n",
      "Predicted digit: 1\n",
      "Predicted digit: 0\n"
     ]
    },
    {
     "data": {
      "image/png": "[encoded data removed]",
      "text/plain": [
       "<Figure size 432x288 with 4 Axes>"
      ]
     },
     "metadata": {
      "needs_background": "light"
     },
     "output_type": "display_data"
    }
   ],
   "source": [
    "\n",
    "test_images = X_test[0:4]\n",
    "test_images = test_images.reshape(test_images.shape[0], 28, 28)\n",
    "\n",
    "for i, test_image in enumerate(test_images, start=1):\n",
    "    org_image = test_image\n",
    "    test_image = test_image.reshape(1, 28, 28, 1)\n",
    "    prediction = np.argmax(full_model.predict(test_image, verbose=0), axis=1)\n",
    "\n",
    "    print(\"Predicted digit: {}\".format(prediction[0]))\n",
    "    plt.subplot(220 + i)\n",
    "    plt.axis('off')\n",
    "    plt.title(\"Predicted digit: {}\".format(prediction[0]))\n",
    "    plt.imshow(org_image, cmap=plt.get_cmap('gray'))\n",
    "\n",
    "plt.show()"
   ]
  },
  {
   "cell_type": "code",
   "execution_count": 83,
   "metadata": {},
   "outputs": [],
   "source": [
    "import cv2"
   ]
  },
  {
   "cell_type": "code",
   "execution_count": 90,
   "metadata": {},
   "outputs": [
    {
     "name": "stdout",
     "output_type": "stream",
     "text": [
      "(28, 28)\n"
     ]
    },
    {
     "data": {
      "text/plain": [
       "<matplotlib.image.AxesImage at 0x2770a21fa88>"
      ]
     },
     "execution_count": 90,
     "metadata": {},
     "output_type": "execute_result"
    },
    {
     "data": {
      "image/png": "[encoded data removed]",
      "text/plain": [
       "<Figure size 432x288 with 1 Axes>"
      ]
     },
     "metadata": {
      "needs_background": "light"
     },
     "output_type": "display_data"
    }
   ],
   "source": [
    "test_image=cv2.imread(\"D:\\RoboSys\\Projects\\Sudoku Solver\\Sudoku Solver Retry\\CleanedBoardCells\\cell58.png\",0)\n",
    "\n",
    "test_image=cv2.resize(test_image,(28,28))\n",
    "print(test_image.shape)\n",
    "plt.imshow(test_image,cmap=\"gray\")"
   ]
  },
  {
   "cell_type": "code",
   "execution_count": 91,
   "metadata": {},
   "outputs": [
    {
     "name": "stdout",
     "output_type": "stream",
     "text": [
      "[2]\n"
     ]
    }
   ],
   "source": [
    "test_image=test_image.reshape(1,28,28,1)\n",
    "prediction = np.argmax(full_model.predict(test_image, verbose=0), axis=1)\n",
    "print(prediction)"
   ]
  },
  {
   "cell_type": "code",
   "execution_count": 92,
   "metadata": {},
   "outputs": [],
   "source": [
    "full_model.save('classification_complete.h5')"
   ]
  },
  {
   "cell_type": "code",
   "execution_count": null,
   "metadata": {},
   "outputs": [],
   "source": []
  }
 ],
 "metadata": {
  "kernelspec": {
   "display_name": "Python 3",
   "language": "python",
   "name": "python3"
  },
  "language_info": {
   "codemirror_mode": {
    "name": "ipython",
    "version": 3
   },
   "file_extension": ".py",
   "mimetype": "text/x-python",
   "name": "python",
   "nbconvert_exporter": "python",
   "pygments_lexer": "ipython3",
   "version": "3.7.6"
  }
 },
 "nbformat": 4,
 "nbformat_minor": 4
}
